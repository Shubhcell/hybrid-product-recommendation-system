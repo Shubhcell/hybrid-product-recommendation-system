{
 "cells": [
  {
   "cell_type": "code",
   "execution_count": 1,
   "metadata": {},
   "outputs": [],
   "source": [
    "import pandas as pd"
   ]
  },
  {
   "cell_type": "code",
   "execution_count": 2,
   "metadata": {},
   "outputs": [],
   "source": [
    "df = pd.read_csv('out.csv')"
   ]
  },
  {
   "cell_type": "code",
   "execution_count": 3,
   "metadata": {},
   "outputs": [
    {
     "name": "stdout",
     "output_type": "stream",
     "text": [
      "Index([' Uniq Id', 'Crawl Timestamp', 'Dataset Origin', 'Product Id',\n",
      "       'Product Barcode', 'Product Company Type Source',\n",
      "       'Product Brand Source', 'Product Brand Normalised Source',\n",
      "       'Product Name Source', 'Match Rank', 'Match Score', 'Match Type',\n",
      "       'Retailer', 'Product Category', 'Product Brand', 'Product Name',\n",
      "       'Product Price', 'Sku', 'Upc', 'Product Url', 'Market',\n",
      "       'Product Description', 'Product Currency',\n",
      "       'Product Available Inventory', 'Product Image Url',\n",
      "       'Product Model Number', 'Product Tags', 'Product Contents',\n",
      "       'Product Rating', 'Product Reviews Count', 'Bsr', 'Joining Key'],\n",
      "      dtype='object')\n"
     ]
    }
   ],
   "source": [
    "print(df.columns)"
   ]
  },
  {
   "cell_type": "code",
   "execution_count": 4,
   "metadata": {},
   "outputs": [
    {
     "name": "stdout",
     "output_type": "stream",
     "text": [
      "<class 'pandas.core.frame.DataFrame'>\n",
      "RangeIndex: 29972 entries, 0 to 29971\n",
      "Data columns (total 32 columns):\n",
      " #   Column                           Non-Null Count  Dtype  \n",
      "---  ------                           --------------  -----  \n",
      " 0    Uniq Id                         29972 non-null  object \n",
      " 1   Crawl Timestamp                  29972 non-null  object \n",
      " 2   Dataset Origin                   0 non-null      float64\n",
      " 3   Product Id                       29972 non-null  object \n",
      " 4   Product Barcode                  0 non-null      float64\n",
      " 5   Product Company Type Source      29972 non-null  object \n",
      " 6   Product Brand Source             88 non-null     object \n",
      " 7   Product Brand Normalised Source  88 non-null     object \n",
      " 8   Product Name Source              88 non-null     object \n",
      " 9   Match Rank                       0 non-null      float64\n",
      " 10  Match Score                      0 non-null      float64\n",
      " 11  Match Type                       0 non-null      float64\n",
      " 12  Retailer                         29972 non-null  object \n",
      " 13  Product Category                 28872 non-null  object \n",
      " 14  Product Brand                    18367 non-null  object \n",
      " 15  Product Name                     29972 non-null  object \n",
      " 16  Product Price                    29193 non-null  object \n",
      " 17  Sku                              29972 non-null  object \n",
      " 18  Upc                              0 non-null      float64\n",
      " 19  Product Url                      29972 non-null  object \n",
      " 20  Market                           29972 non-null  object \n",
      " 21  Product Description              20467 non-null  object \n",
      " 22  Product Currency                 29972 non-null  object \n",
      " 23  Product Available Inventory      29972 non-null  int64  \n",
      " 24  Product Image Url                28609 non-null  object \n",
      " 25  Product Model Number             12602 non-null  object \n",
      " 26  Product Tags                     16302 non-null  object \n",
      " 27  Product Contents                 29705 non-null  object \n",
      " 28  Product Rating                   9613 non-null   float64\n",
      " 29  Product Reviews Count            9464 non-null   object \n",
      " 30  Bsr                              0 non-null      float64\n",
      " 31  Joining Key                      29972 non-null  object \n",
      "dtypes: float64(8), int64(1), object(23)\n",
      "memory usage: 7.3+ MB\n",
      "None\n",
      "       Dataset Origin  Product Barcode  Match Rank  Match Score  Match Type  \\\n",
      "count             0.0              0.0         0.0          0.0         0.0   \n",
      "mean              NaN              NaN         NaN          NaN         NaN   \n",
      "std               NaN              NaN         NaN          NaN         NaN   \n",
      "min               NaN              NaN         NaN          NaN         NaN   \n",
      "25%               NaN              NaN         NaN          NaN         NaN   \n",
      "50%               NaN              NaN         NaN          NaN         NaN   \n",
      "75%               NaN              NaN         NaN          NaN         NaN   \n",
      "max               NaN              NaN         NaN          NaN         NaN   \n",
      "\n",
      "       Upc  Product Available Inventory  Product Rating  Bsr  \n",
      "count  0.0                 2.997200e+04     9613.000000  0.0  \n",
      "mean   NaN                 9.676142e+08        3.830105  NaN  \n",
      "std    NaN                 1.665516e+08        0.655683  NaN  \n",
      "min    NaN                 1.111111e+08        1.000000  NaN  \n",
      "25%    NaN                 1.000000e+09        3.500000  NaN  \n",
      "50%    NaN                 1.000000e+09        3.900000  NaN  \n",
      "75%    NaN                 1.000000e+09        4.200000  NaN  \n",
      "max    NaN                 1.000000e+09        5.000000  NaN  \n"
     ]
    }
   ],
   "source": [
    "print(df.info())        \n",
    "print(df.describe())"
   ]
  },
  {
   "cell_type": "code",
   "execution_count": 5,
   "metadata": {},
   "outputs": [],
   "source": [
    "cols_to_keep = [\n",
    "    'Product Name', 'Product Description', 'Product Price', 'Product Rating',\n",
    "    'Product Reviews Count', 'Product Category', 'Product Brand',\n",
    "    'Product Image Url', 'Product Tags', 'Product Url'\n",
    "]\n",
    "\n",
    "df_clean = df[cols_to_keep].copy()"
   ]
  },
  {
   "cell_type": "code",
   "execution_count": 6,
   "metadata": {},
   "outputs": [
    {
     "name": "stdout",
     "output_type": "stream",
     "text": [
      "<class 'pandas.core.frame.DataFrame'>\n",
      "RangeIndex: 29972 entries, 0 to 29971\n",
      "Data columns (total 10 columns):\n",
      " #   Column                 Non-Null Count  Dtype  \n",
      "---  ------                 --------------  -----  \n",
      " 0   Product Name           29972 non-null  object \n",
      " 1   Product Description    20467 non-null  object \n",
      " 2   Product Price          29193 non-null  object \n",
      " 3   Product Rating         9613 non-null   float64\n",
      " 4   Product Reviews Count  9464 non-null   object \n",
      " 5   Product Category       28872 non-null  object \n",
      " 6   Product Brand          18367 non-null  object \n",
      " 7   Product Image Url      28609 non-null  object \n",
      " 8   Product Tags           16302 non-null  object \n",
      " 9   Product Url            29972 non-null  object \n",
      "dtypes: float64(1), object(9)\n",
      "memory usage: 2.3+ MB\n",
      "None\n",
      "       Product Rating\n",
      "count     9613.000000\n",
      "mean         3.830105\n",
      "std          0.655683\n",
      "min          1.000000\n",
      "25%          3.500000\n",
      "50%          3.900000\n",
      "75%          4.200000\n",
      "max          5.000000\n"
     ]
    }
   ],
   "source": [
    "print(df_clean.info())        \n",
    "print(df_clean.describe())"
   ]
  },
  {
   "cell_type": "code",
   "execution_count": 7,
   "metadata": {},
   "outputs": [
    {
     "name": "stderr",
     "output_type": "stream",
     "text": [
      "<>:14: SyntaxWarning: invalid escape sequence '\\d'\n",
      "<>:14: SyntaxWarning: invalid escape sequence '\\d'\n",
      "C:\\Users\\Lenovo\\AppData\\Local\\Temp\\ipykernel_32020\\3974675116.py:14: SyntaxWarning: invalid escape sequence '\\d'\n",
      "  df_clean['product_price'].str.replace(',', '').str.extract('(\\d+\\.?\\d*)')[0],\n"
     ]
    },
    {
     "name": "stdout",
     "output_type": "stream",
     "text": [
      "                                        product_name  product_price  \\\n",
      "0         Philips 9 W Standard B22 LED Bulb  (White)          137.0   \n",
      "1  Havells 15 W Standard B22 LED Bulb  (White, Pa...          724.0   \n",
      "2  Symphony 12 L Room/Personal Air Cooler  (White...         5299.0   \n",
      "\n",
      "   product_rating  product_reviews_count  \n",
      "0             0.0                      0  \n",
      "1             4.1                     53  \n",
      "2             3.8                   1246  \n"
     ]
    }
   ],
   "source": [
    "# Clean column names\n",
    "df_clean.columns = [col.strip().lower().replace(' ', '_') for col in df_clean.columns]\n",
    "\n",
    "# Fill missing text fields\n",
    "for col in ['product_name', 'product_description', 'product_tags']:\n",
    "    df_clean[col] = df_clean[col].fillna('')\n",
    "\n",
    "# Fill missing brand/category/image_url with 'Unknown'\n",
    "for col in ['product_brand', 'product_category', 'product_image_url']:\n",
    "    df_clean[col] = df_clean[col].fillna('Unknown')\n",
    "\n",
    "# Convert product price to float\n",
    "df_clean['product_price'] = pd.to_numeric(\n",
    "    df_clean['product_price'].str.replace(',', '').str.extract('(\\d+\\.?\\d*)')[0],\n",
    "    errors='coerce'\n",
    ")\n",
    "\n",
    "# Convert reviews count to int\n",
    "df_clean['product_reviews_count'] = pd.to_numeric(\n",
    "    df_clean['product_reviews_count'].str.replace(',', ''),\n",
    "    errors='coerce'\n",
    ").fillna(0).astype(int)\n",
    "\n",
    "# Fill missing ratings with 0 (or use median if you prefer)\n",
    "df_clean['product_rating'] = df_clean['product_rating'].fillna(0)\n",
    "\n",
    "# Combine fields for content-based filtering\n",
    "df_clean['text_data'] = (\n",
    "    df_clean['product_name'] + ' ' +\n",
    "    df_clean['product_description'] + ' ' +\n",
    "    df_clean['product_tags'] + ' ' +\n",
    "    df_clean['product_category'] + ' ' +\n",
    "    df_clean['product_brand']\n",
    ")\n",
    "\n",
    "# Save cleaned version\n",
    "df_clean.to_csv(\"cleaned_products12.csv\", index=False)\n",
    "\n",
    "# Quick preview\n",
    "print(df_clean[['product_name', 'product_price', 'product_rating', 'product_reviews_count']].head(3))"
   ]
  },
  {
   "cell_type": "code",
   "execution_count": 8,
   "metadata": {},
   "outputs": [],
   "source": [
    "from sklearn.feature_extraction.text import TfidfVectorizer\n",
    "from sklearn.metrics.pairwise import cosine_similarity\n",
    "import pandas as pd\n",
    "\n",
    "# Load cleaned data\n",
    "df_clean = pd.read_csv(\"cleaned_products.csv\")\n",
    "\n",
    "# TF-IDF vectorization of text data\n",
    "vectorizer = TfidfVectorizer(stop_words='english')\n",
    "tfidf_matrix = vectorizer.fit_transform(df_clean['text_data'])\n",
    "\n",
    "# Cosine similarity matrix\n",
    "cosine_sim = cosine_similarity(tfidf_matrix, tfidf_matrix)\n",
    "\n",
    "# Create a reverse mapping of product name to index\n",
    "indices = pd.Series(df_clean.index, index=df_clean['product_name']).drop_duplicates()\n"
   ]
  },
  {
   "cell_type": "code",
   "execution_count": 9,
   "metadata": {},
   "outputs": [],
   "source": [
    "\n",
    "def get_recommendations(product_name, num_recommendations=5):\n",
    "    # Convert both the input and index to lowercase for flexible matching\n",
    "    product_name = product_name.lower()\n",
    "    product_names_lower = df_clean['product_name'].str.lower()\n",
    "\n",
    "    if product_name not in product_names_lower.values:\n",
    "        print(\"Product not found in database.\")\n",
    "        return []\n",
    "\n",
    "    idx = product_names_lower[product_names_lower == product_name].index[0]\n",
    "    sim_scores = list(enumerate(cosine_sim[idx]))\n",
    "    sim_scores = sorted(sim_scores, key=lambda x: x[1], reverse=True)\n",
    "    sim_scores = sim_scores[1:num_recommendations+1]\n",
    "    product_indices = [i[0] for i in sim_scores]\n",
    "    return df_clean[['product_name', 'product_price', 'product_rating', 'product_url']].iloc[product_indices]\n"
   ]
  },
  {
   "cell_type": "code",
   "execution_count": null,
   "metadata": {},
   "outputs": [],
   "source": []
  },
  {
   "cell_type": "code",
   "execution_count": 10,
   "metadata": {},
   "outputs": [
    {
     "name": "stdout",
     "output_type": "stream",
     "text": [
      "                                            product_name  product_price  \\\n",
      "24693  Blue Heaven SOFT KAJAL AS EYE LINER 0.31 g  (B...          285.0   \n",
      "27116  Blue Heaven SOFT KAJAL AS EYE LINER 0.31 g  (B...          220.0   \n",
      "14688  Blue Heaven KAJAL,LINER,1+1  (2 Items in the set)          193.0   \n",
      "21167  Blue Heaven Colour Matte Eyeliner 01 Blue (6 M...          104.0   \n",
      "3500   Blue Heaven Eyeliner & Mascara (4 types) 8 ml ...          994.0   \n",
      "\n",
      "       product_rating                                        product_url  \n",
      "24693             4.2  https://www.flipkart.com/blue-heaven-soft-kaja...  \n",
      "27116             4.2  https://www.flipkart.com/blue-heaven-soft-kaja...  \n",
      "14688             4.0  https://www.flipkart.com/blue-heaven-kajal-lin...  \n",
      "21167             3.9  https://www.flipkart.com/blue-heaven-colour-ma...  \n",
      "3500              0.0  https://www.flipkart.com/blue-heaven-eyeliner-...  \n"
     ]
    }
   ],
   "source": [
    "recommendations = get_recommendations(\"Blue Heaven EYE LINER AS SOFT KAJAL (GREEN) 0.31 g\\xa0\\xa0(GREEN)\", 5)\n",
    "print(recommendations)"
   ]
  },
  {
   "cell_type": "code",
   "execution_count": 11,
   "metadata": {},
   "outputs": [
    {
     "name": "stdout",
     "output_type": "stream",
     "text": [
      "['Abbott Freestyle 100 Glucometer Strips', 'kakapharmacy herbal-hair-gel-250x250 pack of 4 Hair Gel\\xa0\\xa0(120 g)', 'Devansh Pendants Ceiling Lamp', 'Food ARC Panch Tulsi Drops - Tulsi Ras - Tulsi Extract - Tulsi Leaves Extract (Pack Of 2)\\xa0\\xa0(30 ml)', 'GDP Analog tamba colour Clock', \"L'Oreal Paris hair spa deep nourishing shampoo and conditioner\\xa0\\xa0(2 Items in the set)\", 'Belza Honey Soap 200 gram ( PACK OF 2 )\\xa0\\xa0(2 x 100 g)', 'Mobone Zc 5-In-1 Smoothing Body Face Beauty Care Facial Massager\\xa0\\xa0(Pink)', 'Khadi Pure Herbal Jasmine And Lemon Soap Combo\\xa0\\xa0(2 x 125 g)', 'Maxel 201b men Runtime: 30 min Trimmer for Men\\xa0\\xa0(Red)']\n"
     ]
    }
   ],
   "source": [
    "# Show a few sample product names\n",
    "print(df_clean['product_name'].sample(10).to_list())\n"
   ]
  },
  {
   "cell_type": "code",
   "execution_count": 12,
   "metadata": {},
   "outputs": [
    {
     "name": "stdout",
     "output_type": "stream",
     "text": [
      "✅ Synthetic user ratings saved.\n"
     ]
    }
   ],
   "source": [
    "import pandas as pd\n",
    "import numpy as np\n",
    "\n",
    "# Load your product data\n",
    "product_df = pd.read_csv(\"cleaned_products.csv\")  # your original CSV\n",
    "\n",
    "# Create synthetic users\n",
    "num_users = 100\n",
    "users = [f\"user_{i}\" for i in range(1, num_users + 1)]\n",
    "\n",
    "# Product names (or use Product IDs if available)\n",
    "products = product_df['product_name'].unique()\n",
    "\n",
    "# Generate synthetic ratings\n",
    "synthetic_data = []\n",
    "\n",
    "np.random.seed(42)  # for reproducibility\n",
    "for user in users:\n",
    "    sampled_products = np.random.choice(products, size=10, replace=False)\n",
    "    for product in sampled_products:\n",
    "        rating = np.random.randint(1, 6)  # Ratings between 1 and 5\n",
    "        synthetic_data.append([user, product, rating])\n",
    "\n",
    "# Create a DataFrame\n",
    "ratings_df = pd.DataFrame(synthetic_data, columns=[\"user_id\", \"product_name\", \"rating\"])\n",
    "\n",
    "# Save to CSV (optional)\n",
    "ratings_df.to_csv(\"synthetic_user_ratings.csv\", index=False)\n",
    "print(\"✅ Synthetic user ratings saved.\")\n"
   ]
  },
  {
   "cell_type": "code",
   "execution_count": 13,
   "metadata": {},
   "outputs": [
    {
     "data": {
      "text/html": [
       "<div>\n",
       "<style scoped>\n",
       "    .dataframe tbody tr th:only-of-type {\n",
       "        vertical-align: middle;\n",
       "    }\n",
       "\n",
       "    .dataframe tbody tr th {\n",
       "        vertical-align: top;\n",
       "    }\n",
       "\n",
       "    .dataframe thead th {\n",
       "        text-align: right;\n",
       "    }\n",
       "</style>\n",
       "<table border=\"1\" class=\"dataframe\">\n",
       "  <thead>\n",
       "    <tr style=\"text-align: right;\">\n",
       "      <th></th>\n",
       "      <th>user_id</th>\n",
       "      <th>product_name</th>\n",
       "      <th>rating</th>\n",
       "    </tr>\n",
       "  </thead>\n",
       "  <tbody>\n",
       "    <tr>\n",
       "      <th>0</th>\n",
       "      <td>user_1</td>\n",
       "      <td>HOKIPO Microfiber Bathroom Mat  (Blue, Medium)</td>\n",
       "      <td>4</td>\n",
       "    </tr>\n",
       "    <tr>\n",
       "      <th>1</th>\n",
       "      <td>user_1</td>\n",
       "      <td>Hawkins &amp; Brimble Face Wash  (150 ml)</td>\n",
       "      <td>1</td>\n",
       "    </tr>\n",
       "    <tr>\n",
       "      <th>2</th>\n",
       "      <td>user_1</td>\n",
       "      <td>SkyKross Cotton Animal Diwan Set</td>\n",
       "      <td>4</td>\n",
       "    </tr>\n",
       "    <tr>\n",
       "      <th>3</th>\n",
       "      <td>user_1</td>\n",
       "      <td>JVL Mini Designer Bowl Set, 2-Pieces Stainless...</td>\n",
       "      <td>1</td>\n",
       "    </tr>\n",
       "    <tr>\n",
       "      <th>4</th>\n",
       "      <td>user_1</td>\n",
       "      <td>TRINITY E STORE - 250 ml Plastic Grocery Conta...</td>\n",
       "      <td>4</td>\n",
       "    </tr>\n",
       "  </tbody>\n",
       "</table>\n",
       "</div>"
      ],
      "text/plain": [
       "  user_id                                       product_name  rating\n",
       "0  user_1     HOKIPO Microfiber Bathroom Mat  (Blue, Medium)       4\n",
       "1  user_1              Hawkins & Brimble Face Wash  (150 ml)       1\n",
       "2  user_1                   SkyKross Cotton Animal Diwan Set       4\n",
       "3  user_1  JVL Mini Designer Bowl Set, 2-Pieces Stainless...       1\n",
       "4  user_1  TRINITY E STORE - 250 ml Plastic Grocery Conta...       4"
      ]
     },
     "execution_count": 13,
     "metadata": {},
     "output_type": "execute_result"
    }
   ],
   "source": [
    "import pandas as pd\n",
    "from surprise import Dataset, Reader\n",
    "\n",
    "# Load the synthetic ratings CSV\n",
    "ratings_df = pd.read_csv(\"synthetic_user_ratings.csv\")\n",
    "\n",
    "# Check format: should have 'user_id', 'product_name', 'rating'\n",
    "ratings_df.head()\n"
   ]
  },
  {
   "cell_type": "code",
   "execution_count": 14,
   "metadata": {},
   "outputs": [],
   "source": [
    "from surprise import SVD\n",
    "from surprise.model_selection import train_test_split\n",
    "from surprise import accuracy\n",
    "\n",
    "# Define rating scale (same as you used when generating data)\n",
    "reader = Reader(rating_scale=(1, 5))\n",
    "\n",
    "# Load into Surprise's format\n",
    "data = Dataset.load_from_df(ratings_df[['user_id', 'product_name', 'rating']], reader)\n",
    "trainset, testset = train_test_split(data, test_size=0.2, random_state=42)\n"
   ]
  },
  {
   "cell_type": "code",
   "execution_count": 15,
   "metadata": {},
   "outputs": [
    {
     "data": {
      "text/plain": [
       "<surprise.prediction_algorithms.matrix_factorization.SVD at 0x1dce54fdbb0>"
      ]
     },
     "execution_count": 15,
     "metadata": {},
     "output_type": "execute_result"
    }
   ],
   "source": [
    "# Use SVD (matrix factorization)\n",
    "model = SVD()\n",
    "model.fit(trainset)\n"
   ]
  },
  {
   "cell_type": "code",
   "execution_count": 16,
   "metadata": {},
   "outputs": [
    {
     "name": "stdout",
     "output_type": "stream",
     "text": [
      "RMSE: 1.4831\n",
      "RMSE: 1.4831123444994903\n"
     ]
    }
   ],
   "source": [
    "predictions = model.test(testset)\n",
    "print(\"RMSE:\", accuracy.rmse(predictions))\n"
   ]
  },
  {
   "cell_type": "code",
   "execution_count": 17,
   "metadata": {},
   "outputs": [
    {
     "name": "stdout",
     "output_type": "stream",
     "text": [
      "[('CASANEST Tie-ups Single Size Waterproof Mattress Protector\\xa0\\xa0(Multicolor)', 3.42), ('Dove Hair Therapy Hair Fall Rescue Shampoo 650ml\\xa0\\xa0(650 ml)', 3.41), ('Trothic Gardens Rare Exotic Adenium Obesum Black Red 1 Helathy Small Seedling Plant\\xa0\\xa0(Hybrid, Pack of 1)', 3.4), ('BIO BRIX HEALTHCARE KETOBRIX-AF BODY WASH\\xa0\\xa0(100 ml)', 3.4), ('POVTY EXPORT Microfibre Solid Sleeping Pillow Pack of 2\\xa0\\xa0(White)', 3.39)]\n"
     ]
    }
   ],
   "source": [
    "\n",
    "def get_top_n_recommendations(user_id, n=5):\n",
    "    all_products = ratings_df['product_name'].unique()\n",
    "    rated = ratings_df[ratings_df['user_id'] == user_id]['product_name'].tolist()\n",
    "    unrated = [p for p in all_products if p not in rated]\n",
    "    \n",
    "    predictions = [model.predict(user_id, product) for product in unrated]\n",
    "    top_n = sorted(predictions, key=lambda x: x.est, reverse=True)[:n]\n",
    "    return [(pred.iid, round(pred.est, 2)) for pred in top_n]\n",
    "\n",
    "# Example: Top 5 recommendations for user_10\n",
    "print(get_top_n_recommendations(\"user_10\"))\n"
   ]
  },
  {
   "cell_type": "code",
   "execution_count": 23,
   "metadata": {},
   "outputs": [],
   "source": [
    "def hybrid_recommendation(user_id, content_df, cosine_sim, top_n=5, alpha=0.5):\n",
    "    all_products = content_df['product_name'].unique()\n",
    "    rated = ratings_df[ratings_df['user_id'] == user_id]['product_name'].tolist()\n",
    "    candidates = [p for p in all_products if p not in rated]\n",
    "\n",
    "    scores = []\n",
    "    for product in candidates:\n",
    "        # Collaborative score\n",
    "        try:\n",
    "            collab_score = model.predict(user_id, product).est\n",
    "        except:\n",
    "            collab_score = 0.0\n",
    "        \n",
    "        # Content score: compare with all products the user rated\n",
    "        user_rated = ratings_df[ratings_df['user_id'] == user_id]['product_name'].tolist()\n",
    "        content_scores = [get_content_score(p, product, content_df, cosine_sim) for p in user_rated]\n",
    "        avg_content_score = sum(content_scores) / len(content_scores) if content_scores else 0.0\n",
    "\n",
    "        # Final score\n",
    "        final_score = alpha * avg_content_score + (1 - alpha) * collab_score\n",
    "        scores.append((product, round(final_score, 4)))\n",
    "\n",
    "    # Sort and return top N\n",
    "    top_recommendations = sorted(scores, key=lambda x: x[1], reverse=True)[:top_n]\n",
    "    return top_recommendations\n"
   ]
  },
  {
   "cell_type": "code",
   "execution_count": 25,
   "metadata": {},
   "outputs": [],
   "source": [
    "def get_content_score(target_product_name, candidate_product_name, content_df, cosine_sim):\n",
    "    try:\n",
    "        target_idx = content_df[content_df['Product Name'] == target_product_name].index[0]\n",
    "        candidate_idx = content_df[content_df['Product Name'] == candidate_product_name].index[0]\n",
    "        return cosine_sim[target_idx][candidate_idx]\n",
    "    except:\n",
    "        return 0.0\n"
   ]
  },
  {
   "cell_type": "code",
   "execution_count": 26,
   "metadata": {},
   "outputs": [
    {
     "name": "stdout",
     "output_type": "stream",
     "text": [
      "CASANEST Tie-ups Single Size Waterproof Mattress Protector  (Multicolor) → 1.369\n",
      "Dove Hair Therapy Hair Fall Rescue Shampoo 650ml  (650 ml) → 1.3626\n",
      "BIO BRIX HEALTHCARE KETOBRIX-AF BODY WASH  (100 ml) → 1.3596\n",
      "Trothic Gardens Rare Exotic Adenium Obesum Black Red 1 Helathy Small Seedling Plant  (Hybrid, Pack of 1) → 1.3596\n",
      "POVTY EXPORT Microfibre Solid Sleeping Pillow Pack of 2  (White) → 1.3542\n"
     ]
    }
   ],
   "source": [
    "top_hybrid = hybrid_recommendation(\"user_10\", content_df=product_df, cosine_sim=cosine_sim, alpha=0.6)\n",
    "for product, score in top_hybrid:\n",
    "    print(f\"{product} → {score}\")\n"
   ]
  },
  {
   "cell_type": "code",
   "execution_count": 27,
   "metadata": {},
   "outputs": [],
   "source": [
    "import pickle\n",
    "\n",
    "with open('svd_model.pkl', 'wb') as f:\n",
    "    pickle.dump(model, f)\n"
   ]
  },
  {
   "cell_type": "code",
   "execution_count": 28,
   "metadata": {},
   "outputs": [],
   "source": [
    "ratings_df.to_csv('ratings_data.csv', index=False)"
   ]
  },
  {
   "cell_type": "code",
   "execution_count": 30,
   "metadata": {},
   "outputs": [],
   "source": [
    "import numpy as np\n",
    "\n",
    "np.save('cosine_sim.npy', cosine_sim)\n"
   ]
  },
  {
   "cell_type": "code",
   "execution_count": 31,
   "metadata": {},
   "outputs": [],
   "source": [
    "product_df.to_csv('product_data.csv', index=False)\n"
   ]
  },
  {
   "cell_type": "code",
   "execution_count": null,
   "metadata": {},
   "outputs": [],
   "source": []
  }
 ],
 "metadata": {
  "kernelspec": {
   "display_name": "Python 3",
   "language": "python",
   "name": "python3"
  },
  "language_info": {
   "codemirror_mode": {
    "name": "ipython",
    "version": 3
   },
   "file_extension": ".py",
   "mimetype": "text/x-python",
   "name": "python",
   "nbconvert_exporter": "python",
   "pygments_lexer": "ipython3",
   "version": "3.12.6"
  }
 },
 "nbformat": 4,
 "nbformat_minor": 2
}
